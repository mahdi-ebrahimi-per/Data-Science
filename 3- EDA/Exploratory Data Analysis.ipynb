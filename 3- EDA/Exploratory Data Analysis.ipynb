{
 "cells": [
  {
   "cell_type": "markdown",
   "source": [
    "# Exploratory Data Analysis\r\n",
    "\r\n",
    "\r\n",
    "[![Open In Colab](https://colab.research.google.com/assets/colab-badge.svg)](https://colab.research.google.com/github/mahdi-ebrahimi-per/Data-Science/blob/main/3-%20EDA/Exploratory%20Data%20Analysis.ipynb)\r\n",
    "\r\n",
    "\r\n"
   ],
   "metadata": {}
  },
  {
   "cell_type": "code",
   "execution_count": 3,
   "source": [
    "#import Librarys\r\n",
    "\r\n",
    "import numpy as np\r\n",
    "import pandas as pd\r\n",
    "import matplotlib.pyplot\r\n"
   ],
   "outputs": [],
   "metadata": {}
  },
  {
   "cell_type": "code",
   "execution_count": 8,
   "source": [
    "# univariate\r\n",
    "# multivariate\r\n",
    "# bivariate\r\n",
    "\r\n",
    "# مرکزیت\r\n",
    "# توزیع\r\n",
    "# نمودار\r\n",
    "\r\n",
    "df_tmp = pd.read_csv(\"coin_Bitcoin.csv\")\r\n",
    "df_tmp.head()\r\n",
    "print(df_tmp[\"Low\"])\r\n"
   ],
   "outputs": [
    {
     "output_type": "stream",
     "name": "stdout",
     "text": [
      "0         134.000000\n",
      "1         134.050003\n",
      "2         107.720001\n",
      "3          92.281898\n",
      "4          79.099998\n",
      "            ...     \n",
      "2857    45290.590268\n",
      "2858    47213.498162\n",
      "2859    47093.853019\n",
      "2860    44454.842114\n",
      "2861    45269.025766\n",
      "Name: Low, Length: 2862, dtype: float64\n"
     ]
    }
   ],
   "metadata": {}
  },
  {
   "cell_type": "markdown",
   "source": [],
   "metadata": {}
  },
  {
   "cell_type": "code",
   "execution_count": 38,
   "source": [
    "class EDA:\r\n",
    "    def __init__(self, csv_Addr):\r\n",
    "        # import all csv file as df\r\n",
    "        self.csv_Addr = csv_Addr\r\n",
    "        self.df = pd.read_csv(csv_Addr)\r\n",
    " \r\n",
    "        # self.df[column] = None\r\n",
    "\r\n",
    "        # self.describe()\r\n",
    "\r\n",
    "    def describe(self, column):\r\n",
    "        if column:\r\n",
    "            try:\r\n",
    "                self.alls = self.df[column].describe()\r\n",
    "                self.count = self.df[column].describe()[\"count\"]\r\n",
    "                self.mean = self.df[column].describe()[\"mean\"]\r\n",
    "                self.std = self.df[column].describe()[\"std\"]\r\n",
    "                self.min = self.df[column].describe()[\"min\"]\r\n",
    "                self.Q1 = self.df[column].describe()[\"25%\"]\r\n",
    "                self.Q2 = self.df[column].describe()[\"50%\"]\r\n",
    "                self.median = self.df[column].describe()[\"50%\"]\r\n",
    "                self.Q3 = self.df[column].describe()[\"75%\"]\r\n",
    "                self.max = self.df[column].describe()[\"max\"]\r\n",
    "\r\n",
    "            except:\r\n",
    "                raise ValueError(\"column name is incorrect\")\r\n",
    "\r\n",
    "        else:\r\n",
    "            raise ValueError(\"fill 'column' argument\")\r\n",
    "\r\n",
    "    \r\n",
    "    def distrib(self, column):\r\n",
    "        self.describe(column)\r\n",
    "        if column:\r\n",
    "            try:\r\n",
    "                self.IQR = self.Q3 - self.Q1\r\n",
    "                self.variance = np.var(self.df[column])\r\n",
    "                self.semi_variance = None\r\n",
    "                self.std = np.std(self.df[column])\r\n",
    "\r\n",
    "\r\n",
    "            except:\r\n",
    "                raise ValueError(\"column name is incorrect2\")\r\n",
    "\r\n",
    "        else:\r\n",
    "            raise ValueError(\"fill 'column' argument\")        \r\n",
    "\r\n",
    "\r\n"
   ],
   "outputs": [],
   "metadata": {}
  },
  {
   "cell_type": "code",
   "execution_count": 41,
   "source": [
    "sample = EDA(\"./coin_Bitcoin.csv\")\r\n",
    "# print(sample.describe(\"Low\"))\r\n",
    "# print(sample.mean)\r\n",
    "\r\n",
    "sample.distrib(\"Low\")\r\n",
    "print(sample.IQR)\r\n",
    "\r\n",
    "\r\n"
   ],
   "outputs": [
    {
     "output_type": "stream",
     "name": "stdout",
     "text": [
      "7287.681749267578\n"
     ]
    }
   ],
   "metadata": {}
  },
  {
   "cell_type": "code",
   "execution_count": null,
   "source": [],
   "outputs": [],
   "metadata": {}
  }
 ],
 "metadata": {
  "orig_nbformat": 4,
  "language_info": {
   "name": "python",
   "version": "3.8.5",
   "mimetype": "text/x-python",
   "codemirror_mode": {
    "name": "ipython",
    "version": 3
   },
   "pygments_lexer": "ipython3",
   "nbconvert_exporter": "python",
   "file_extension": ".py"
  },
  "kernelspec": {
   "name": "python3",
   "display_name": "Python 3.8.5 64-bit ('base': conda)"
  },
  "interpreter": {
   "hash": "770021e68aae5e5bc49f7a3b6edb919a4a251fef8e7696fd47196c25263b13c4"
  }
 },
 "nbformat": 4,
 "nbformat_minor": 2
}